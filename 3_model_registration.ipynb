{
 "cells": [
  {
   "cell_type": "code",
   "execution_count": 16,
   "id": "f34cf04d-bd9e-4476-bcaf-1e5ab8fb1ecf",
   "metadata": {},
   "outputs": [],
   "source": [
    "import joblib\n",
    "import pandas as pd\n",
    "import numpy as np\n",
    "import re\n",
    "import string\n",
    "from scipy.sparse import hstack\n",
    "from functools import partial"
   ]
  },
  {
   "cell_type": "code",
   "execution_count": 17,
   "id": "c07f1a8a-d88b-4247-807f-5e4364dffdea",
   "metadata": {},
   "outputs": [],
   "source": [
    "import warnings\n",
    "warnings.filterwarnings(\"ignore\")"
   ]
  },
  {
   "cell_type": "code",
   "execution_count": 18,
   "id": "ef72014d-6f8f-481c-916a-dbf1aa8a33ec",
   "metadata": {},
   "outputs": [],
   "source": [
    "from functools import partial"
   ]
  },
  {
   "cell_type": "code",
   "execution_count": 19,
   "id": "74ef63e9-8e61-4867-a449-bee2cbced10c",
   "metadata": {},
   "outputs": [],
   "source": [
    "from dotenv import load_dotenv\n",
    "\n",
    "from pathlib import Path\n",
    "\n",
    "env_path = Path(\"../.env-live\")\n",
    "# env_path = Path(\"../../.env-live-g1\")\n",
    "# env_path = Path(\"../../.env-live-g2\")\n",
    "# env_path = Path(\"../../.env-live-g3\")\n",
    "# env_path = Path(\"../../.env-live-g4\")\n",
    "# env_path = Path(\"../../.env-live-g5\")\n",
    "# env_path = Path(\"../../.env-live-g6\")\n",
    "\n",
    "\n",
    "if env_path.exists():\n",
    "    load_dotenv(dotenv_path=env_path)"
   ]
  },
  {
   "cell_type": "code",
   "execution_count": 20,
   "id": "42861906-83f7-497a-a7c8-b2adb1ea7fc5",
   "metadata": {},
   "outputs": [
    {
     "data": {
      "text/plain": [
       "'273-g5'"
      ]
     },
     "execution_count": 20,
     "metadata": {},
     "output_type": "execute_result"
    }
   ],
   "source": [
    "import os\n",
    "os.environ['JRJ_MODEL_REGISTRY_S3_BUCKET_NAME']"
   ]
  },
  {
   "cell_type": "code",
   "execution_count": 21,
   "id": "0aef22b1-8003-4e45-ba0d-0b781e2e1b9d",
   "metadata": {},
   "outputs": [],
   "source": [
    "from jrjModelRegistry import handleDashboard, jrjRouterModelRegistry\n",
    "from jrjModelRegistry.jrjModelRegistry import registerAJrjModel"
   ]
  },
  {
   "cell_type": "code",
   "execution_count": 8,
   "id": "51497420-ebb6-4f11-88a5-62766d3d78df",
   "metadata": {},
   "outputs": [],
   "source": [
    "# Load trained models\n",
    "logreg = joblib.load('../models/logistic_regression.pkl')\n",
    "rf = joblib.load('../models/random_forest.pkl')\n",
    "xgb = joblib.load('../models/xgboost.pkl')\n",
    "\n",
    "# Load TF-IDF vectorizer and stopwords\n",
    "tfidf = joblib.load('../models/tfidf_vectorizer.pkl')\n",
    "stop_words = set(open('stopwords_en.txt').read().splitlines())"
   ]
  },
  {
   "cell_type": "code",
   "execution_count": 9,
   "id": "1fea0945-6146-46ec-b46a-53105c52daf6",
   "metadata": {},
   "outputs": [],
   "source": [
    "def netflix_transformer(data):\n",
    "    def clean_text(text):\n",
    "        text = text.lower()\n",
    "        text = re.sub(r'\\d+', '', text)\n",
    "        text = text.translate(str.maketrans('', '', string.punctuation))\n",
    "        return ' '.join(word for word in text.split() if word not in stop_words)\n",
    "    \n",
    "    df = pd.DataFrame(data)\n",
    "    df['description'] = df['description'].fillna(\"\").apply(clean_text)\n",
    "\n",
    "    X_text = tfidf.transform(df['description'])\n",
    "\n",
    "    df['type_Movie'] = (df['type'] == 'Movie').astype(np.float32)\n",
    "    df['type_TV Show'] = (df['type'] == 'TV Show').astype(np.float32)\n",
    "    df['release_year'] = pd.to_numeric(df['release_year'], errors='coerce').fillna(0).astype(np.float32)\n",
    "\n",
    "    X_other = df[['release_year', 'type_Movie', 'type_TV Show']].values\n",
    "    return hstack([X_text, X_other])"
   ]
  },
  {
   "cell_type": "code",
   "execution_count": 10,
   "id": "7ad3cedd-2af6-4b56-a0e2-75ccaaadcfcf",
   "metadata": {},
   "outputs": [],
   "source": [
    "def netflix_main_predictor(model, transformed_data):\n",
    "    return model.predict(transformed_data)"
   ]
  },
  {
   "cell_type": "code",
   "execution_count": 11,
   "id": "0fb39621-aa87-4506-8935-9b198f90d5a2",
   "metadata": {},
   "outputs": [],
   "source": [
    "logreg.mainPredictor = partial(netflix_main_predictor, logreg)\n",
    "rf.mainPredictor = partial(netflix_main_predictor, rf)\n",
    "xgb.mainPredictor = partial(netflix_main_predictor, xgb)\n",
    "\n",
    "logreg.transformer = netflix_transformer\n",
    "rf.transformer = netflix_transformer\n",
    "xgb.transformer = netflix_transformer"
   ]
  },
  {
   "cell_type": "code",
   "execution_count": 24,
   "id": "0d5a716c-1967-428e-adb5-7c6272bdd0a8",
   "metadata": {},
   "outputs": [],
   "source": [
    "def register_model(model, model_name, score):\n",
    "    metadata = {\n",
    "        \"modelName\": model_name,\n",
    "        \"version\": \"1.0.1\",\n",
    "        \"score\": float(score),\n",
    "        \"library\": model.__class__.__name__,\n",
    "        \"sampleData\": {\n",
    "            \"dataForTransfer\": [{\n",
    "                \"description\": \"A young man battles dark forces in a magical realm.\",\n",
    "                \"type\": \"Movie\",\n",
    "                \"release_year\": 2020\n",
    "            }]\n",
    "        }\n",
    "    }\n",
    "    registerAJrjModel(model, metadata)"
   ]
  },
  {
   "cell_type": "code",
   "execution_count": 25,
   "id": "cb6d238a-4a96-4edb-96e7-f313c2542bd3",
   "metadata": {},
   "outputs": [
    {
     "name": "stdout",
     "output_type": "stream",
     "text": [
      "✅ Uploaded encrypted ZIP to s3://273-g5/group5_logreg__1.0.1.pkl.zip\n",
      "✅ Uploaded encrypted ZIP to s3://273-g5/group5_rf__1.0.1.pkl.zip\n",
      "✅ Uploaded encrypted ZIP to s3://273-g5/group5_xgb__1.0.1.pkl.zip\n"
     ]
    }
   ],
   "source": [
    "register_model(logreg, \"group5_logreg\", 0.78)\n",
    "register_model(rf, \"group5_rf\", 0.82)\n",
    "register_model(xgb, \"group5_xgb\", 0.84)"
   ]
  },
  {
   "cell_type": "code",
   "execution_count": null,
   "id": "17a1023b-81d9-456c-a940-05b0c337e2c4",
   "metadata": {},
   "outputs": [],
   "source": []
  }
 ],
 "metadata": {
  "kernelspec": {
   "display_name": "Python 3 (ipykernel)",
   "language": "python",
   "name": "python3"
  },
  "language_info": {
   "codemirror_mode": {
    "name": "ipython",
    "version": 3
   },
   "file_extension": ".py",
   "mimetype": "text/x-python",
   "name": "python",
   "nbconvert_exporter": "python",
   "pygments_lexer": "ipython3",
   "version": "3.13.3"
  }
 },
 "nbformat": 4,
 "nbformat_minor": 5
}
